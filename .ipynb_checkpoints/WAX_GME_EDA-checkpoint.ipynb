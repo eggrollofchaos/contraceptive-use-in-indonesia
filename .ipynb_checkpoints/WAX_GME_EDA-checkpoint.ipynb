{
 "cells": [
  {
   "cell_type": "markdown",
   "metadata": {},
   "source": [
    "### Setup"
   ]
  },
  {
   "cell_type": "code",
   "execution_count": 9,
   "metadata": {},
   "outputs": [],
   "source": [
    "import numpy as np\n",
    "import pandas as pd\n",
    "import pandas_datareader.data as web\n",
    "import yfinance as yf\n",
    "from alpha_vantage.timeseries import TimeSeries\n",
    "import time\n",
    "import datetime\n",
    "import matplotlib as plt\n",
    "import seaborn as sns\n",
    "from sklearn import linear_model\n",
    "from sklearn.linear_model import LinearRegression\n",
    "from sklearn.feature_selection import SelectKBest, f_regression, mutual_info_regression\n",
    "from sklearn.feature_selection import RFECV\n",
    "from sklearn.model_selection import train_test_split\n",
    "from sklearn import metrics\n",
    "from sklearn.preprocessing import PolynomialFeatures\n",
    "from sklearn.preprocessing import StandardScaler\n",
    "%matplotlib inline\n",
    "\n",
    "from keys import client_id, secret_key, av_key"
   ]
  },
  {
   "cell_type": "markdown",
   "metadata": {},
   "source": [
    "### Alpha Vantage"
   ]
  },
  {
   "cell_type": "code",
   "execution_count": 14,
   "metadata": {},
   "outputs": [],
   "source": [
    "ts = TimeSeries(key=av_key, output_format='pandas')\n",
    "data, meta_data = ts.get_intraday(symbol='GME', interval='1min', outputsize='full')"
   ]
  },
  {
   "cell_type": "code",
   "execution_count": 15,
   "metadata": {},
   "outputs": [
    {
     "data": {
      "text/html": [
       "<div>\n",
       "<style scoped>\n",
       "    .dataframe tbody tr th:only-of-type {\n",
       "        vertical-align: middle;\n",
       "    }\n",
       "\n",
       "    .dataframe tbody tr th {\n",
       "        vertical-align: top;\n",
       "    }\n",
       "\n",
       "    .dataframe thead th {\n",
       "        text-align: right;\n",
       "    }\n",
       "</style>\n",
       "<table border=\"1\" class=\"dataframe\">\n",
       "  <thead>\n",
       "    <tr style=\"text-align: right;\">\n",
       "      <th></th>\n",
       "      <th>1. open</th>\n",
       "      <th>2. high</th>\n",
       "      <th>3. low</th>\n",
       "      <th>4. close</th>\n",
       "      <th>5. volume</th>\n",
       "    </tr>\n",
       "    <tr>\n",
       "      <th>date</th>\n",
       "      <th></th>\n",
       "      <th></th>\n",
       "      <th></th>\n",
       "      <th></th>\n",
       "      <th></th>\n",
       "    </tr>\n",
       "  </thead>\n",
       "  <tbody>\n",
       "    <tr>\n",
       "      <th>2021-03-26 20:00:00</th>\n",
       "      <td>178.51</td>\n",
       "      <td>179.00</td>\n",
       "      <td>178.50</td>\n",
       "      <td>178.50</td>\n",
       "      <td>2653.0</td>\n",
       "    </tr>\n",
       "    <tr>\n",
       "      <th>2021-03-26 19:59:00</th>\n",
       "      <td>179.01</td>\n",
       "      <td>179.25</td>\n",
       "      <td>179.00</td>\n",
       "      <td>179.00</td>\n",
       "      <td>1845.0</td>\n",
       "    </tr>\n",
       "    <tr>\n",
       "      <th>2021-03-26 19:58:00</th>\n",
       "      <td>179.02</td>\n",
       "      <td>179.02</td>\n",
       "      <td>179.02</td>\n",
       "      <td>179.02</td>\n",
       "      <td>384.0</td>\n",
       "    </tr>\n",
       "    <tr>\n",
       "      <th>2021-03-26 19:57:00</th>\n",
       "      <td>179.30</td>\n",
       "      <td>179.30</td>\n",
       "      <td>179.01</td>\n",
       "      <td>179.01</td>\n",
       "      <td>910.0</td>\n",
       "    </tr>\n",
       "    <tr>\n",
       "      <th>2021-03-26 19:56:00</th>\n",
       "      <td>179.75</td>\n",
       "      <td>179.75</td>\n",
       "      <td>179.40</td>\n",
       "      <td>179.40</td>\n",
       "      <td>795.0</td>\n",
       "    </tr>\n",
       "    <tr>\n",
       "      <th>...</th>\n",
       "      <td>...</td>\n",
       "      <td>...</td>\n",
       "      <td>...</td>\n",
       "      <td>...</td>\n",
       "      <td>...</td>\n",
       "    </tr>\n",
       "    <tr>\n",
       "      <th>2021-03-15 04:05:00</th>\n",
       "      <td>273.16</td>\n",
       "      <td>274.80</td>\n",
       "      <td>273.00</td>\n",
       "      <td>273.00</td>\n",
       "      <td>3254.0</td>\n",
       "    </tr>\n",
       "    <tr>\n",
       "      <th>2021-03-15 04:04:00</th>\n",
       "      <td>271.93</td>\n",
       "      <td>273.00</td>\n",
       "      <td>271.93</td>\n",
       "      <td>272.99</td>\n",
       "      <td>3584.0</td>\n",
       "    </tr>\n",
       "    <tr>\n",
       "      <th>2021-03-15 04:03:00</th>\n",
       "      <td>270.16</td>\n",
       "      <td>271.99</td>\n",
       "      <td>270.10</td>\n",
       "      <td>271.99</td>\n",
       "      <td>2736.0</td>\n",
       "    </tr>\n",
       "    <tr>\n",
       "      <th>2021-03-15 04:02:00</th>\n",
       "      <td>268.00</td>\n",
       "      <td>269.00</td>\n",
       "      <td>268.00</td>\n",
       "      <td>269.00</td>\n",
       "      <td>1417.0</td>\n",
       "    </tr>\n",
       "    <tr>\n",
       "      <th>2021-03-15 04:01:00</th>\n",
       "      <td>270.00</td>\n",
       "      <td>272.00</td>\n",
       "      <td>268.79</td>\n",
       "      <td>270.00</td>\n",
       "      <td>3393.0</td>\n",
       "    </tr>\n",
       "  </tbody>\n",
       "</table>\n",
       "<p>7584 rows × 5 columns</p>\n",
       "</div>"
      ],
      "text/plain": [
       "                     1. open  2. high  3. low  4. close  5. volume\n",
       "date                                                              \n",
       "2021-03-26 20:00:00   178.51   179.00  178.50    178.50     2653.0\n",
       "2021-03-26 19:59:00   179.01   179.25  179.00    179.00     1845.0\n",
       "2021-03-26 19:58:00   179.02   179.02  179.02    179.02      384.0\n",
       "2021-03-26 19:57:00   179.30   179.30  179.01    179.01      910.0\n",
       "2021-03-26 19:56:00   179.75   179.75  179.40    179.40      795.0\n",
       "...                      ...      ...     ...       ...        ...\n",
       "2021-03-15 04:05:00   273.16   274.80  273.00    273.00     3254.0\n",
       "2021-03-15 04:04:00   271.93   273.00  271.93    272.99     3584.0\n",
       "2021-03-15 04:03:00   270.16   271.99  270.10    271.99     2736.0\n",
       "2021-03-15 04:02:00   268.00   269.00  268.00    269.00     1417.0\n",
       "2021-03-15 04:01:00   270.00   272.00  268.79    270.00     3393.0\n",
       "\n",
       "[7584 rows x 5 columns]"
      ]
     },
     "execution_count": 15,
     "metadata": {},
     "output_type": "execute_result"
    }
   ],
   "source": [
    "data"
   ]
  },
  {
   "cell_type": "code",
   "execution_count": null,
   "metadata": {},
   "outputs": [],
   "source": [
    "with open "
   ]
  },
  {
   "cell_type": "markdown",
   "metadata": {},
   "source": [
    "### yfinance"
   ]
  },
  {
   "cell_type": "code",
   "execution_count": 6,
   "metadata": {},
   "outputs": [],
   "source": [
    "gme_df = yf.download('GME', start='2021-02-03', end='2021-03-13', progress=False)\n",
    "gme_df['Change'] = gme_df.Close - gme_df.Open\n",
    "gme_df['Put/Call OI Ratio'] = float(0)"
   ]
  },
  {
   "cell_type": "code",
   "execution_count": null,
   "metadata": {},
   "outputs": [],
   "source": []
  },
  {
   "cell_type": "markdown",
   "metadata": {},
   "source": [
    "# EDA"
   ]
  },
  {
   "cell_type": "markdown",
   "metadata": {},
   "source": [
    "# Feature Engineering"
   ]
  },
  {
   "cell_type": "markdown",
   "metadata": {},
   "source": [
    "GME open price\n",
    "GME close price\n",
    "SPY \n",
    "DIA\n",
    "XRT close price\n",
    "QQQ \n",
    "IWM\n",
    "VXX\n"
   ]
  }
 ],
 "metadata": {
  "kernelspec": {
   "display_name": "Python 3",
   "language": "python",
   "name": "python3"
  },
  "language_info": {
   "codemirror_mode": {
    "name": "ipython",
    "version": 3
   },
   "file_extension": ".py",
   "mimetype": "text/x-python",
   "name": "python",
   "nbconvert_exporter": "python",
   "pygments_lexer": "ipython3",
   "version": "3.8.3"
  },
  "toc": {
   "base_numbering": 1,
   "nav_menu": {},
   "number_sections": true,
   "sideBar": true,
   "skip_h1_title": false,
   "title_cell": "Table of Contents",
   "title_sidebar": "Contents",
   "toc_cell": false,
   "toc_position": {},
   "toc_section_display": true,
   "toc_window_display": true
  }
 },
 "nbformat": 4,
 "nbformat_minor": 4
}
