{
 "cells": [
  {
   "cell_type": "markdown",
   "metadata": {},
   "source": [
    "## Setup"
   ]
  },
  {
   "cell_type": "code",
   "execution_count": 155,
   "metadata": {
    "ExecuteTime": {
     "end_time": "2021-04-02T06:41:23.408900Z",
     "start_time": "2021-04-02T06:41:23.400909Z"
    }
   },
   "outputs": [],
   "source": [
    "import numpy as np\n",
    "import pandas as pd\n",
    "import matplotlib.pyplot as plt\n",
    "import seaborn as sns\n",
    "# from scipy import stats\n",
    "# from collections import Counter\n",
    "from pactools.grid_search import GridSearchCVProgressBar\n",
    "from sklearn.svm import SVC\n",
    "from sklearn.linear_model import LogisticRegression\n",
    "from sklearn.neighbors import KNeighborsClassifier\n",
    "# from sklearn.tree import DecisionTreeClassifier\n",
    "# from sklearn.feature_selection import SelectKBest, f_regression, mutual_info_regression\n",
    "# from sklearn.feature_selection import RFECV\n",
    "from sklearn.model_selection import train_test_split, GridSearchCV,\\\n",
    "    cross_val_score, StratifiedKFold\n",
    "# RandomizedSearchCV, \n",
    "from sklearn.metrics import plot_confusion_matrix,\\\n",
    "    precision_score, recall_score, accuracy_score, f1_score, log_loss,\\\n",
    "    roc_curve, roc_auc_score, classification_report, plot_roc_curve, SCORERS\n",
    "# from imblearn.under_sampling import TomekLinks\n",
    "from sklearn.decomposition import PCA\n",
    "from sklearn.preprocessing import OneHotEncoder, RobustScaler, StandardScaler\n",
    "from sklearn.pipeline import Pipeline\n",
    "from sklearn.compose import ColumnTransformer\n",
    "# from sklearn.ensemble import RandomForestClassifier\n",
    "from xgboost import XGBClassifier, XGBRFClassifier\n",
    "from code.functions import *\n",
    "# %matplotlib inline"
   ]
  },
  {
   "cell_type": "markdown",
   "metadata": {},
   "source": [
    "# EDA"
   ]
  },
  {
   "cell_type": "markdown",
   "metadata": {},
   "source": [
    "## Load Data"
   ]
  },
  {
   "cell_type": "code",
   "execution_count": 2,
   "metadata": {
    "ExecuteTime": {
     "end_time": "2021-04-01T19:37:02.463247Z",
     "start_time": "2021-04-01T19:37:02.455354Z"
    }
   },
   "outputs": [],
   "source": [
    "pd.set_option('display.max_columns',None)"
   ]
  },
  {
   "cell_type": "code",
   "execution_count": 3,
   "metadata": {
    "ExecuteTime": {
     "end_time": "2021-04-01T19:37:02.510199Z",
     "start_time": "2021-04-01T19:37:02.499214Z"
    }
   },
   "outputs": [],
   "source": [
    "# df_1987_br = pd.read_stata('data/ID_1987_DHS_04012021_1716_161452/IDBR01DT/IDBR01FL.dta',\n",
    "#                 )\n",
    "\n",
    "#                  names = ['age','edu','hus_edu','chil','rel','work',\n",
    "#                                         'hus_ocu','sol','media','cmc'])"
   ]
  },
  {
   "cell_type": "code",
   "execution_count": 4,
   "metadata": {
    "ExecuteTime": {
     "end_time": "2021-04-01T19:37:02.539997Z",
     "start_time": "2021-04-01T19:37:02.527315Z"
    }
   },
   "outputs": [],
   "source": [
    "# df_1987_br"
   ]
  },
  {
   "cell_type": "code",
   "execution_count": 105,
   "metadata": {
    "ExecuteTime": {
     "end_time": "2021-04-01T23:48:26.789431Z",
     "start_time": "2021-04-01T23:48:26.778625Z"
    }
   },
   "outputs": [],
   "source": [
    "df = pd.read_csv('data/cmc.data', names = ['age','edu','hus_edu','chil','rel','work',\n",
    "                                        'hus_ocu','sol','media','cmc'])"
   ]
  },
  {
   "cell_type": "markdown",
   "metadata": {},
   "source": [
    "## Feature Engineering"
   ]
  },
  {
   "cell_type": "code",
   "execution_count": 130,
   "metadata": {
    "ExecuteTime": {
     "end_time": "2021-04-01T23:58:57.038935Z",
     "start_time": "2021-04-01T23:58:55.721254Z"
    }
   },
   "outputs": [
    {
     "name": "stdout",
     "output_type": "stream",
     "text": [
      "49 0.16295261509293898\n"
     ]
    },
    {
     "data": {
      "image/png": "[encoded data removed]",
      "text/plain": [
       "<Figure size 432x288 with 1 Axes>"
      ]
     },
     "metadata": {
      "needs_background": "light"
     },
     "output_type": "display_data"
    }
   ],
   "source": [
    "r_values = {}\n",
    "ages = range(df.age.min(), df.age.max() + 1)\n",
    "for age in ages:\n",
    "    df['age_mid'] = np.abs(df['age'] - age)\n",
    "    r_values[age] = df['age_mid'].corr(df.cmc)\n",
    "fig, ax = plt.subplots()\n",
    "ax.plot(*zip(*sorted(r_values.items())))\n",
    "ax.set_title('Plot of r^2 correlation between Age and CMC', fontdict = {'fontsize': 14})\n",
    "ax.set_xlabel('Age set as mid', fontdict = {'fontsize': 12})\n",
    "ax.set_ylabel('R^2 Value', fontdict = {'fontsize': 12})\n",
    "print(max(r_values, key=r_values.get), max(r_values.values()))"
   ]
  },
  {
   "cell_type": "markdown",
   "metadata": {},
   "source": [
    "## Dummying, Scaling/Fit/Transform"
   ]
  },
  {
   "cell_type": "code",
   "execution_count": 6,
   "metadata": {
    "ExecuteTime": {
     "end_time": "2021-04-01T19:37:02.641142Z",
     "start_time": "2021-04-01T19:37:02.561844Z"
    }
   },
   "outputs": [],
   "source": [
    "X = df.copy()\n",
    "y = X.pop('cmc')\n",
    "to_dummy = ['edu', 'hus_edu', 'chil', 'hus_ocu', 'sol']\n",
    "X_with_dums = pd.get_dummies(X, columns=to_dummy, drop_first=True)\n",
    "# X_with_dums.shape\n",
    "X_train, X_test, y_train, y_test = train_test_split(\n",
    "    X_with_dums, y, test_size=.25,\n",
    "    random_state=1)\n",
    "# X_train.shape\n",
    "rs = RobustScaler()\n",
    "rs.fit(X_train)\n",
    "X_train = rs.transform(X_train)\n",
    "X_test = rs.transform(X_test)"
   ]
  },
  {
   "cell_type": "markdown",
   "metadata": {},
   "source": [
    "# Modeling"
   ]
  },
  {
   "cell_type": "markdown",
   "metadata": {
    "ExecuteTime": {
     "end_time": "2021-04-01T19:17:25.857775Z",
     "start_time": "2021-04-01T19:17:25.854964Z"
    }
   },
   "source": [
    "## Logistic Regression w/ Children dummied"
   ]
  },
  {
   "cell_type": "code",
   "execution_count": 7,
   "metadata": {
    "ExecuteTime": {
     "end_time": "2021-04-01T19:37:25.465919Z",
     "start_time": "2021-04-01T19:37:02.690797Z"
    }
   },
   "outputs": [
    {
     "name": "stdout",
     "output_type": "stream",
     "text": [
      "{'lr': LogisticRegression(C=11.288378916846883, class_weight='balanced', dual=True,\n",
      "                   l1_ratio=10000.0, solver='liblinear'), 'lr__C': 11.288378916846883, 'lr__class_weight': 'balanced', 'lr__dual': True, 'lr__l1_ratio': 10000.0, 'lr__penalty': 'l2', 'lr__solver': 'liblinear'}\n"
     ]
    }
   ],
   "source": [
    "# set up pipeline\n",
    "pipe_lr = Pipeline([('lr' , LogisticRegression())])\n",
    "\n",
    "params_grid_lr = {#'lr' : [LogisticRegression()],\n",
    "                  'lr__penalty' : ['l2'],\n",
    "                  'lr__class_weight' : ['balanced'],\n",
    "                  'lr__dual' : [True],\n",
    "                  'lr__solver' : ['liblinear'],\n",
    "                  'lr__C' : np.logspace(-4, 4, 20),\n",
    "                  'lr__l1_ratio' : np.logspace(-4, 4, 20)\n",
    "                 }\n",
    "\n",
    "lr_clf = GridSearchCV(pipe_lr, param_grid = params_grid_lr, cv = 5, verbose=0, n_jobs=-1)\n",
    "\n",
    "# fit on data\n",
    "lr_clf.fit(X_train, y_train)\n",
    "print(lr_clf.best_params_)\n",
    "best_lr_clf = lr_clf.best_estimator_"
   ]
  },
  {
   "cell_type": "code",
   "execution_count": 8,
   "metadata": {
    "ExecuteTime": {
     "end_time": "2021-04-01T19:37:26.198393Z",
     "start_time": "2021-04-01T19:37:25.473665Z"
    }
   },
   "outputs": [
    {
     "name": "stdout",
     "output_type": "stream",
     "text": [
      "Num features:  9\n",
      "Model score:  0.5663956639566395\n",
      "Model F1 (micro):  0.5663956639566395\n",
      "Model F1 (macro):  0.5522012385134433\n",
      "Model F1 (weighted):  0.5720673521588784\n",
      "Cross validation score:  [0.56756757 0.51351351 0.56756757 0.55405405 0.52054795]\n",
      "Classification Report:\n",
      "              precision    recall  f1-score   support\n",
      "\n",
      "           1       0.72      0.61      0.66       161\n",
      "           2       0.42      0.51      0.46        87\n",
      "           3       0.52      0.55      0.54       121\n",
      "\n",
      "    accuracy                           0.57       369\n",
      "   macro avg       0.55      0.56      0.55       369\n",
      "weighted avg       0.58      0.57      0.57       369\n",
      "\n",
      "One-vs-One ROC AUC scores:\n",
      "0.755654 (macro),\n",
      "0.758996 (weighted by prevalence)\n",
      "One-vs-Rest ROC AUC scores:\n",
      "0.760803 (macro),\n",
      "0.761742 (weighted by prevalence)\n"
     ]
    },
    {
     "data": {
      "image/png": "[encoded data removed]",
      "text/plain": [
       "<Figure size 432x576 with 2 Axes>"
      ]
     },
     "metadata": {
      "needs_background": "light"
     },
     "output_type": "display_data"
    }
   ],
   "source": [
    "model_stats(X.columns, best_lr_clf, 'LogisticRegression', X_test, y_test)"
   ]
  },
  {
   "cell_type": "code",
   "execution_count": 225,
   "metadata": {
    "ExecuteTime": {
     "end_time": "2021-04-02T07:14:27.680159Z",
     "start_time": "2021-04-02T07:14:27.670019Z"
    }
   },
   "outputs": [
    {
     "ename": "NameError",
     "evalue": "name 'best_clr' is not defined",
     "output_type": "error",
     "traceback": [
      "\u001b[0;31m---------------------------------------------------------------------------\u001b[0m",
      "\u001b[0;31mNameError\u001b[0m                                 Traceback (most recent call last)",
      "\u001b[0;32m<ipython-input-225-119b9d83f17c>\u001b[0m in \u001b[0;36m<module>\u001b[0;34m\u001b[0m\n\u001b[0;32m----> 1\u001b[0;31m \u001b[0mlr_clf_\u001b[0m \u001b[0;34m=\u001b[0m \u001b[0mbest_clr\u001b[0m\u001b[0;34m.\u001b[0m\u001b[0mnamed_steps\u001b[0m\u001b[0;34m[\u001b[0m\u001b[0;34m'lr'\u001b[0m\u001b[0;34m]\u001b[0m\u001b[0;34m\u001b[0m\u001b[0;34m\u001b[0m\u001b[0m\n\u001b[0m",
      "\u001b[0;31mNameError\u001b[0m: name 'best_clr' is not defined"
     ]
    }
   ],
   "source": [
    "lr_clf_ = best_lr_clf.named_steps['lr']"
   ]
  },
  {
   "cell_type": "code",
   "execution_count": 226,
   "metadata": {
    "ExecuteTime": {
     "end_time": "2021-04-02T07:16:44.148326Z",
     "start_time": "2021-04-02T07:16:44.143054Z"
    }
   },
   "outputs": [
    {
     "data": {
      "text/plain": [
       "LogisticRegression(C=11.288378916846883, class_weight='balanced', dual=True,\n",
       "                   l1_ratio=10000.0, solver='liblinear')"
      ]
     },
     "execution_count": 226,
     "metadata": {},
     "output_type": "execute_result"
    }
   ],
   "source": [
    "classifier"
   ]
  },
  {
   "cell_type": "code",
   "execution_count": 13,
   "metadata": {
    "ExecuteTime": {
     "end_time": "2021-04-01T19:37:26.402878Z",
     "start_time": "2021-04-01T19:37:26.393665Z"
    }
   },
   "outputs": [],
   "source": [
    "coef_df = pd.DataFrame(lr_clf_.coef_, columns = X_with_dums.columns, index = [1,2,3])"
   ]
  },
  {
   "cell_type": "code",
   "execution_count": 14,
   "metadata": {
    "ExecuteTime": {
     "end_time": "2021-04-01T19:37:26.478642Z",
     "start_time": "2021-04-01T19:37:26.414516Z"
    }
   },
   "outputs": [
    {
     "data": {
      "text/html": [
       "<div>\n",
       "<style scoped>\n",
       "    .dataframe tbody tr th:only-of-type {\n",
       "        vertical-align: middle;\n",
       "    }\n",
       "\n",
       "    .dataframe tbody tr th {\n",
       "        vertical-align: top;\n",
       "    }\n",
       "\n",
       "    .dataframe thead th {\n",
       "        text-align: right;\n",
       "    }\n",
       "</style>\n",
       "<table border=\"1\" class=\"dataframe\">\n",
       "  <thead>\n",
       "    <tr style=\"text-align: right;\">\n",
       "      <th></th>\n",
       "      <th>age</th>\n",
       "      <th>rel</th>\n",
       "      <th>work</th>\n",
       "      <th>media</th>\n",
       "      <th>edu_2</th>\n",
       "      <th>edu_3</th>\n",
       "      <th>edu_4</th>\n",
       "      <th>hus_edu_2</th>\n",
       "      <th>hus_edu_3</th>\n",
       "      <th>hus_edu_4</th>\n",
       "      <th>chil_1</th>\n",
       "      <th>chil_2</th>\n",
       "      <th>chil_3</th>\n",
       "      <th>chil_4</th>\n",
       "      <th>chil_5</th>\n",
       "      <th>chil_6</th>\n",
       "      <th>chil_7</th>\n",
       "      <th>chil_8</th>\n",
       "      <th>chil_9</th>\n",
       "      <th>chil_10</th>\n",
       "      <th>chil_11</th>\n",
       "      <th>chil_12</th>\n",
       "      <th>chil_13</th>\n",
       "      <th>chil_16</th>\n",
       "      <th>hus_ocu_2</th>\n",
       "      <th>hus_ocu_3</th>\n",
       "      <th>hus_ocu_4</th>\n",
       "      <th>sol_2</th>\n",
       "      <th>sol_3</th>\n",
       "      <th>sol_4</th>\n",
       "    </tr>\n",
       "  </thead>\n",
       "  <tbody>\n",
       "    <tr>\n",
       "      <th>1</th>\n",
       "      <td>1.140321</td>\n",
       "      <td>0.434542</td>\n",
       "      <td>-0.006101</td>\n",
       "      <td>0.591486</td>\n",
       "      <td>-0.160453</td>\n",
       "      <td>-0.678311</td>\n",
       "      <td>-1.407922</td>\n",
       "      <td>-0.099320</td>\n",
       "      <td>-0.141503</td>\n",
       "      <td>0.071394</td>\n",
       "      <td>-2.492218</td>\n",
       "      <td>-3.219432</td>\n",
       "      <td>-4.148631</td>\n",
       "      <td>-4.325759</td>\n",
       "      <td>-4.395595</td>\n",
       "      <td>-4.441339</td>\n",
       "      <td>-4.430763</td>\n",
       "      <td>-3.829947</td>\n",
       "      <td>-5.286275</td>\n",
       "      <td>-3.181374</td>\n",
       "      <td>-4.298351</td>\n",
       "      <td>0.218293</td>\n",
       "      <td>-5.365508</td>\n",
       "      <td>0.0</td>\n",
       "      <td>0.210601</td>\n",
       "      <td>0.065689</td>\n",
       "      <td>-0.609240</td>\n",
       "      <td>-0.512551</td>\n",
       "      <td>-0.794078</td>\n",
       "      <td>-0.940953</td>\n",
       "    </tr>\n",
       "    <tr>\n",
       "      <th>2</th>\n",
       "      <td>-0.008012</td>\n",
       "      <td>-0.479720</td>\n",
       "      <td>-0.125077</td>\n",
       "      <td>-0.357605</td>\n",
       "      <td>0.876666</td>\n",
       "      <td>1.489937</td>\n",
       "      <td>1.996561</td>\n",
       "      <td>-1.483063</td>\n",
       "      <td>-1.654070</td>\n",
       "      <td>-1.479732</td>\n",
       "      <td>1.899189</td>\n",
       "      <td>1.911459</td>\n",
       "      <td>2.240573</td>\n",
       "      <td>2.684194</td>\n",
       "      <td>2.496672</td>\n",
       "      <td>2.797238</td>\n",
       "      <td>3.308127</td>\n",
       "      <td>2.515229</td>\n",
       "      <td>3.002312</td>\n",
       "      <td>2.474362</td>\n",
       "      <td>1.632292</td>\n",
       "      <td>-0.194498</td>\n",
       "      <td>3.397786</td>\n",
       "      <td>0.0</td>\n",
       "      <td>-0.606401</td>\n",
       "      <td>-0.482489</td>\n",
       "      <td>0.138242</td>\n",
       "      <td>0.436942</td>\n",
       "      <td>0.684747</td>\n",
       "      <td>0.768348</td>\n",
       "    </tr>\n",
       "    <tr>\n",
       "      <th>3</th>\n",
       "      <td>-1.180707</td>\n",
       "      <td>-0.045478</td>\n",
       "      <td>0.048958</td>\n",
       "      <td>-0.442980</td>\n",
       "      <td>-0.253771</td>\n",
       "      <td>-0.087855</td>\n",
       "      <td>0.118759</td>\n",
       "      <td>1.516176</td>\n",
       "      <td>1.659865</td>\n",
       "      <td>1.385191</td>\n",
       "      <td>1.837039</td>\n",
       "      <td>2.543468</td>\n",
       "      <td>3.173224</td>\n",
       "      <td>3.085554</td>\n",
       "      <td>3.355211</td>\n",
       "      <td>3.170467</td>\n",
       "      <td>2.718266</td>\n",
       "      <td>2.711642</td>\n",
       "      <td>4.049815</td>\n",
       "      <td>-0.558842</td>\n",
       "      <td>3.894094</td>\n",
       "      <td>-0.396614</td>\n",
       "      <td>3.816524</td>\n",
       "      <td>0.0</td>\n",
       "      <td>0.340745</td>\n",
       "      <td>0.371497</td>\n",
       "      <td>0.681944</td>\n",
       "      <td>0.389974</td>\n",
       "      <td>0.450661</td>\n",
       "      <td>0.519567</td>\n",
       "    </tr>\n",
       "  </tbody>\n",
       "</table>\n",
       "</div>"
      ],
      "text/plain": [
       "        age       rel      work     media     edu_2     edu_3     edu_4  \\\n",
       "1  1.140321  0.434542 -0.006101  0.591486 -0.160453 -0.678311 -1.407922   \n",
       "2 -0.008012 -0.479720 -0.125077 -0.357605  0.876666  1.489937  1.996561   \n",
       "3 -1.180707 -0.045478  0.048958 -0.442980 -0.253771 -0.087855  0.118759   \n",
       "\n",
       "   hus_edu_2  hus_edu_3  hus_edu_4    chil_1    chil_2    chil_3    chil_4  \\\n",
       "1  -0.099320  -0.141503   0.071394 -2.492218 -3.219432 -4.148631 -4.325759   \n",
       "2  -1.483063  -1.654070  -1.479732  1.899189  1.911459  2.240573  2.684194   \n",
       "3   1.516176   1.659865   1.385191  1.837039  2.543468  3.173224  3.085554   \n",
       "\n",
       "     chil_5    chil_6    chil_7    chil_8    chil_9   chil_10   chil_11  \\\n",
       "1 -4.395595 -4.441339 -4.430763 -3.829947 -5.286275 -3.181374 -4.298351   \n",
       "2  2.496672  2.797238  3.308127  2.515229  3.002312  2.474362  1.632292   \n",
       "3  3.355211  3.170467  2.718266  2.711642  4.049815 -0.558842  3.894094   \n",
       "\n",
       "    chil_12   chil_13  chil_16  hus_ocu_2  hus_ocu_3  hus_ocu_4     sol_2  \\\n",
       "1  0.218293 -5.365508      0.0   0.210601   0.065689  -0.609240 -0.512551   \n",
       "2 -0.194498  3.397786      0.0  -0.606401  -0.482489   0.138242  0.436942   \n",
       "3 -0.396614  3.816524      0.0   0.340745   0.371497   0.681944  0.389974   \n",
       "\n",
       "      sol_3     sol_4  \n",
       "1 -0.794078 -0.940953  \n",
       "2  0.684747  0.768348  \n",
       "3  0.450661  0.519567  "
      ]
     },
     "execution_count": 14,
     "metadata": {},
     "output_type": "execute_result"
    }
   ],
   "source": [
    "coef_df"
   ]
  },
  {
   "cell_type": "code",
   "execution_count": 15,
   "metadata": {
    "ExecuteTime": {
     "end_time": "2021-04-01T19:37:26.506343Z",
     "start_time": "2021-04-01T19:37:26.492777Z"
    }
   },
   "outputs": [
    {
     "data": {
      "text/plain": [
       "1        age\n",
       "2    chil_13\n",
       "3     chil_9\n",
       "dtype: object"
      ]
     },
     "execution_count": 15,
     "metadata": {},
     "output_type": "execute_result"
    }
   ],
   "source": [
    "coef_df.idxmax(axis = 1)"
   ]
  },
  {
   "cell_type": "code",
   "execution_count": 16,
   "metadata": {
    "ExecuteTime": {
     "end_time": "2021-04-01T19:37:26.543330Z",
     "start_time": "2021-04-01T19:37:26.517688Z"
    }
   },
   "outputs": [
    {
     "data": {
      "text/plain": [
       "1      chil_13\n",
       "2    hus_edu_3\n",
       "3          age\n",
       "dtype: object"
      ]
     },
     "execution_count": 16,
     "metadata": {},
     "output_type": "execute_result"
    }
   ],
   "source": [
    "coef_df.idxmin(axis = 1)"
   ]
  },
  {
   "cell_type": "code",
   "execution_count": 17,
   "metadata": {
    "ExecuteTime": {
     "end_time": "2021-04-01T19:37:26.578242Z",
     "start_time": "2021-04-01T19:37:26.560099Z"
    }
   },
   "outputs": [
    {
     "data": {
      "text/plain": [
       "age          1.140321\n",
       "rel          0.434542\n",
       "work        -0.006101\n",
       "media        0.591486\n",
       "edu_2       -0.160453\n",
       "edu_3       -0.678311\n",
       "edu_4       -1.407922\n",
       "hus_edu_2   -0.099320\n",
       "hus_edu_3   -0.141503\n",
       "hus_edu_4    0.071394\n",
       "chil_1      -2.492218\n",
       "chil_2      -3.219432\n",
       "chil_3      -4.148631\n",
       "chil_4      -4.325759\n",
       "chil_5      -4.395595\n",
       "chil_6      -4.441339\n",
       "chil_7      -4.430763\n",
       "chil_8      -3.829947\n",
       "chil_9      -5.286275\n",
       "chil_10     -3.181374\n",
       "chil_11     -4.298351\n",
       "chil_12      0.218293\n",
       "chil_13     -5.365508\n",
       "chil_16      0.000000\n",
       "hus_ocu_2    0.210601\n",
       "hus_ocu_3    0.065689\n",
       "hus_ocu_4   -0.609240\n",
       "sol_2       -0.512551\n",
       "sol_3       -0.794078\n",
       "sol_4       -0.940953\n",
       "Name: 1, dtype: float64"
      ]
     },
     "execution_count": 17,
     "metadata": {},
     "output_type": "execute_result"
    }
   ],
   "source": [
    "coef_df.loc[1]"
   ]
  },
  {
   "cell_type": "markdown",
   "metadata": {
    "ExecuteTime": {
     "end_time": "2021-04-01T19:17:45.050610Z",
     "start_time": "2021-04-01T19:17:45.047797Z"
    }
   },
   "source": [
    "## Logistic Regression w/o Children dummied"
   ]
  },
  {
   "cell_type": "code",
   "execution_count": 94,
   "metadata": {
    "ExecuteTime": {
     "end_time": "2021-04-01T23:45:54.368834Z",
     "start_time": "2021-04-01T23:45:49.847690Z"
    }
   },
   "outputs": [
    {
     "name": "stderr",
     "output_type": "stream",
     "text": [
      "/Users/wax/opt/anaconda3/lib/python3.8/site-packages/sklearn/model_selection/_search.py:918: UserWarning: One or more of the test scores are non-finite: [nan nan nan nan nan nan nan nan nan nan nan nan nan nan nan nan nan nan\n",
      " nan nan nan nan nan nan nan nan nan nan nan nan nan nan nan nan nan nan\n",
      " nan nan nan nan nan nan nan nan nan nan nan nan nan nan nan nan nan nan\n",
      " nan nan nan nan nan nan nan nan nan nan nan nan nan nan nan nan nan nan\n",
      " nan nan nan nan nan nan nan nan nan nan nan nan nan nan nan nan nan nan\n",
      " nan nan nan nan nan nan nan nan nan nan nan nan nan nan nan nan nan nan\n",
      " nan nan nan nan nan nan nan nan nan nan nan nan nan nan nan nan nan nan\n",
      " nan nan nan nan nan nan nan nan nan nan nan nan nan nan nan nan nan nan\n",
      " nan nan nan nan nan nan nan nan nan nan nan nan nan nan nan nan nan nan\n",
      " nan nan nan nan nan nan nan nan nan nan nan nan nan nan nan nan nan nan\n",
      " nan nan nan nan nan nan nan nan nan nan nan nan nan nan nan nan nan nan\n",
      " nan nan nan nan nan nan nan nan nan nan nan nan nan nan nan nan nan nan\n",
      " nan nan nan nan nan nan nan nan nan nan nan nan nan nan nan nan nan nan\n",
      " nan nan nan nan nan nan nan nan nan nan nan nan nan nan nan nan nan nan\n",
      " nan nan nan nan nan nan nan nan nan nan nan nan nan nan nan nan nan nan\n",
      " nan nan nan nan nan nan nan nan nan nan nan nan nan nan nan nan nan nan\n",
      " nan nan nan nan nan nan nan nan nan nan nan nan nan nan nan nan nan nan\n",
      " nan nan nan nan nan nan nan nan nan nan nan nan nan nan nan nan nan nan\n",
      " nan nan nan nan nan nan nan nan nan nan nan nan nan nan nan nan nan nan\n",
      " nan nan nan nan nan nan nan nan nan nan nan nan nan nan nan nan nan nan\n",
      " nan nan nan nan nan nan nan nan nan nan nan nan nan nan nan nan nan nan\n",
      " nan nan nan nan nan nan nan nan nan nan nan nan nan nan nan nan nan nan\n",
      " nan nan nan nan]\n",
      "  warnings.warn(\n",
      "/Users/wax/opt/anaconda3/lib/python3.8/site-packages/sklearn/linear_model/_logistic.py:1317: UserWarning: l1_ratio parameter is only used when penalty is 'elasticnet'. Got (penalty=l2)\n",
      "  warnings.warn(\"l1_ratio parameter is only used when penalty is \"\n"
     ]
    },
    {
     "ename": "ValueError",
     "evalue": "Unknown label type: 'unknown'",
     "output_type": "error",
     "traceback": [
      "\u001b[0;31m---------------------------------------------------------------------------\u001b[0m",
      "\u001b[0;31mValueError\u001b[0m                                Traceback (most recent call last)",
      "\u001b[0;32m<ipython-input-94-1fba384879d7>\u001b[0m in \u001b[0;36m<module>\u001b[0;34m\u001b[0m\n\u001b[1;32m     16\u001b[0m \u001b[0;34m\u001b[0m\u001b[0m\n\u001b[1;32m     17\u001b[0m \u001b[0;31m# fit on data\u001b[0m\u001b[0;34m\u001b[0m\u001b[0;34m\u001b[0m\u001b[0;34m\u001b[0m\u001b[0m\n\u001b[0;32m---> 18\u001b[0;31m \u001b[0mlr_clf\u001b[0m\u001b[0;34m.\u001b[0m\u001b[0mfit\u001b[0m\u001b[0;34m(\u001b[0m\u001b[0mX_train\u001b[0m\u001b[0;34m,\u001b[0m \u001b[0my_train\u001b[0m\u001b[0;34m)\u001b[0m\u001b[0;34m\u001b[0m\u001b[0;34m\u001b[0m\u001b[0m\n\u001b[0m\u001b[1;32m     19\u001b[0m \u001b[0mprint\u001b[0m\u001b[0;34m(\u001b[0m\u001b[0mlr_clf\u001b[0m\u001b[0;34m.\u001b[0m\u001b[0mbest_params_\u001b[0m\u001b[0;34m)\u001b[0m\u001b[0;34m\u001b[0m\u001b[0;34m\u001b[0m\u001b[0m\n\u001b[1;32m     20\u001b[0m \u001b[0mbest_clf\u001b[0m \u001b[0;34m=\u001b[0m \u001b[0mlr_clf\u001b[0m\u001b[0;34m.\u001b[0m\u001b[0mbest_estimator_\u001b[0m\u001b[0;34m\u001b[0m\u001b[0;34m\u001b[0m\u001b[0m\n",
      "\u001b[0;32m~/opt/anaconda3/lib/python3.8/site-packages/sklearn/utils/validation.py\u001b[0m in \u001b[0;36minner_f\u001b[0;34m(*args, **kwargs)\u001b[0m\n\u001b[1;32m     61\u001b[0m             \u001b[0mextra_args\u001b[0m \u001b[0;34m=\u001b[0m \u001b[0mlen\u001b[0m\u001b[0;34m(\u001b[0m\u001b[0margs\u001b[0m\u001b[0;34m)\u001b[0m \u001b[0;34m-\u001b[0m \u001b[0mlen\u001b[0m\u001b[0;34m(\u001b[0m\u001b[0mall_args\u001b[0m\u001b[0;34m)\u001b[0m\u001b[0;34m\u001b[0m\u001b[0;34m\u001b[0m\u001b[0m\n\u001b[1;32m     62\u001b[0m             \u001b[0;32mif\u001b[0m \u001b[0mextra_args\u001b[0m \u001b[0;34m<=\u001b[0m \u001b[0;36m0\u001b[0m\u001b[0;34m:\u001b[0m\u001b[0;34m\u001b[0m\u001b[0;34m\u001b[0m\u001b[0m\n\u001b[0;32m---> 63\u001b[0;31m                 \u001b[0;32mreturn\u001b[0m \u001b[0mf\u001b[0m\u001b[0;34m(\u001b[0m\u001b[0;34m*\u001b[0m\u001b[0margs\u001b[0m\u001b[0;34m,\u001b[0m \u001b[0;34m**\u001b[0m\u001b[0mkwargs\u001b[0m\u001b[0;34m)\u001b[0m\u001b[0;34m\u001b[0m\u001b[0;34m\u001b[0m\u001b[0m\n\u001b[0m\u001b[1;32m     64\u001b[0m \u001b[0;34m\u001b[0m\u001b[0m\n\u001b[1;32m     65\u001b[0m             \u001b[0;31m# extra_args > 0\u001b[0m\u001b[0;34m\u001b[0m\u001b[0;34m\u001b[0m\u001b[0;34m\u001b[0m\u001b[0m\n",
      "\u001b[0;32m~/opt/anaconda3/lib/python3.8/site-packages/sklearn/model_selection/_search.py\u001b[0m in \u001b[0;36mfit\u001b[0;34m(self, X, y, groups, **fit_params)\u001b[0m\n\u001b[1;32m    878\u001b[0m             \u001b[0mrefit_start_time\u001b[0m \u001b[0;34m=\u001b[0m \u001b[0mtime\u001b[0m\u001b[0;34m.\u001b[0m\u001b[0mtime\u001b[0m\u001b[0;34m(\u001b[0m\u001b[0;34m)\u001b[0m\u001b[0;34m\u001b[0m\u001b[0;34m\u001b[0m\u001b[0m\n\u001b[1;32m    879\u001b[0m             \u001b[0;32mif\u001b[0m \u001b[0my\u001b[0m \u001b[0;32mis\u001b[0m \u001b[0;32mnot\u001b[0m \u001b[0;32mNone\u001b[0m\u001b[0;34m:\u001b[0m\u001b[0;34m\u001b[0m\u001b[0;34m\u001b[0m\u001b[0m\n\u001b[0;32m--> 880\u001b[0;31m                 \u001b[0mself\u001b[0m\u001b[0;34m.\u001b[0m\u001b[0mbest_estimator_\u001b[0m\u001b[0;34m.\u001b[0m\u001b[0mfit\u001b[0m\u001b[0;34m(\u001b[0m\u001b[0mX\u001b[0m\u001b[0;34m,\u001b[0m \u001b[0my\u001b[0m\u001b[0;34m,\u001b[0m \u001b[0;34m**\u001b[0m\u001b[0mfit_params\u001b[0m\u001b[0;34m)\u001b[0m\u001b[0;34m\u001b[0m\u001b[0;34m\u001b[0m\u001b[0m\n\u001b[0m\u001b[1;32m    881\u001b[0m             \u001b[0;32melse\u001b[0m\u001b[0;34m:\u001b[0m\u001b[0;34m\u001b[0m\u001b[0;34m\u001b[0m\u001b[0m\n\u001b[1;32m    882\u001b[0m                 \u001b[0mself\u001b[0m\u001b[0;34m.\u001b[0m\u001b[0mbest_estimator_\u001b[0m\u001b[0;34m.\u001b[0m\u001b[0mfit\u001b[0m\u001b[0;34m(\u001b[0m\u001b[0mX\u001b[0m\u001b[0;34m,\u001b[0m \u001b[0;34m**\u001b[0m\u001b[0mfit_params\u001b[0m\u001b[0;34m)\u001b[0m\u001b[0;34m\u001b[0m\u001b[0;34m\u001b[0m\u001b[0m\n",
      "\u001b[0;32m~/opt/anaconda3/lib/python3.8/site-packages/sklearn/pipeline.py\u001b[0m in \u001b[0;36mfit\u001b[0;34m(self, X, y, **fit_params)\u001b[0m\n\u001b[1;32m    344\u001b[0m             \u001b[0;32mif\u001b[0m \u001b[0mself\u001b[0m\u001b[0;34m.\u001b[0m\u001b[0m_final_estimator\u001b[0m \u001b[0;34m!=\u001b[0m \u001b[0;34m'passthrough'\u001b[0m\u001b[0;34m:\u001b[0m\u001b[0;34m\u001b[0m\u001b[0;34m\u001b[0m\u001b[0m\n\u001b[1;32m    345\u001b[0m                 \u001b[0mfit_params_last_step\u001b[0m \u001b[0;34m=\u001b[0m \u001b[0mfit_params_steps\u001b[0m\u001b[0;34m[\u001b[0m\u001b[0mself\u001b[0m\u001b[0;34m.\u001b[0m\u001b[0msteps\u001b[0m\u001b[0;34m[\u001b[0m\u001b[0;34m-\u001b[0m\u001b[0;36m1\u001b[0m\u001b[0;34m]\u001b[0m\u001b[0;34m[\u001b[0m\u001b[0;36m0\u001b[0m\u001b[0;34m]\u001b[0m\u001b[0;34m]\u001b[0m\u001b[0;34m\u001b[0m\u001b[0;34m\u001b[0m\u001b[0m\n\u001b[0;32m--> 346\u001b[0;31m                 \u001b[0mself\u001b[0m\u001b[0;34m.\u001b[0m\u001b[0m_final_estimator\u001b[0m\u001b[0;34m.\u001b[0m\u001b[0mfit\u001b[0m\u001b[0;34m(\u001b[0m\u001b[0mXt\u001b[0m\u001b[0;34m,\u001b[0m \u001b[0my\u001b[0m\u001b[0;34m,\u001b[0m \u001b[0;34m**\u001b[0m\u001b[0mfit_params_last_step\u001b[0m\u001b[0;34m)\u001b[0m\u001b[0;34m\u001b[0m\u001b[0;34m\u001b[0m\u001b[0m\n\u001b[0m\u001b[1;32m    347\u001b[0m \u001b[0;34m\u001b[0m\u001b[0m\n\u001b[1;32m    348\u001b[0m         \u001b[0;32mreturn\u001b[0m \u001b[0mself\u001b[0m\u001b[0;34m\u001b[0m\u001b[0;34m\u001b[0m\u001b[0m\n",
      "\u001b[0;32m~/opt/anaconda3/lib/python3.8/site-packages/sklearn/linear_model/_logistic.py\u001b[0m in \u001b[0;36mfit\u001b[0;34m(self, X, y, sample_weight)\u001b[0m\n\u001b[1;32m   1345\u001b[0m                                    \u001b[0morder\u001b[0m\u001b[0;34m=\u001b[0m\u001b[0;34m\"C\"\u001b[0m\u001b[0;34m,\u001b[0m\u001b[0;34m\u001b[0m\u001b[0;34m\u001b[0m\u001b[0m\n\u001b[1;32m   1346\u001b[0m                                    accept_large_sparse=solver != 'liblinear')\n\u001b[0;32m-> 1347\u001b[0;31m         \u001b[0mcheck_classification_targets\u001b[0m\u001b[0;34m(\u001b[0m\u001b[0my\u001b[0m\u001b[0;34m)\u001b[0m\u001b[0;34m\u001b[0m\u001b[0;34m\u001b[0m\u001b[0m\n\u001b[0m\u001b[1;32m   1348\u001b[0m         \u001b[0mself\u001b[0m\u001b[0;34m.\u001b[0m\u001b[0mclasses_\u001b[0m \u001b[0;34m=\u001b[0m \u001b[0mnp\u001b[0m\u001b[0;34m.\u001b[0m\u001b[0munique\u001b[0m\u001b[0;34m(\u001b[0m\u001b[0my\u001b[0m\u001b[0;34m)\u001b[0m\u001b[0;34m\u001b[0m\u001b[0;34m\u001b[0m\u001b[0m\n\u001b[1;32m   1349\u001b[0m \u001b[0;34m\u001b[0m\u001b[0m\n",
      "\u001b[0;32m~/opt/anaconda3/lib/python3.8/site-packages/sklearn/utils/multiclass.py\u001b[0m in \u001b[0;36mcheck_classification_targets\u001b[0;34m(y)\u001b[0m\n\u001b[1;32m    181\u001b[0m     if y_type not in ['binary', 'multiclass', 'multiclass-multioutput',\n\u001b[1;32m    182\u001b[0m                       'multilabel-indicator', 'multilabel-sequences']:\n\u001b[0;32m--> 183\u001b[0;31m         \u001b[0;32mraise\u001b[0m \u001b[0mValueError\u001b[0m\u001b[0;34m(\u001b[0m\u001b[0;34m\"Unknown label type: %r\"\u001b[0m \u001b[0;34m%\u001b[0m \u001b[0my_type\u001b[0m\u001b[0;34m)\u001b[0m\u001b[0;34m\u001b[0m\u001b[0;34m\u001b[0m\u001b[0m\n\u001b[0m\u001b[1;32m    184\u001b[0m \u001b[0;34m\u001b[0m\u001b[0m\n\u001b[1;32m    185\u001b[0m \u001b[0;34m\u001b[0m\u001b[0m\n",
      "\u001b[0;31mValueError\u001b[0m: Unknown label type: 'unknown'"
     ]
    }
   ],
   "source": [
    "to_dummy = ['edu', 'hus_edu', 'hus_ocu', 'sol']\n",
    "X_dums, X_train, X_test, y_train, y_test = dummy_transform_scale(X, y, to_dummy, rs = 729)\n",
    "# set up pipeline\n",
    "pipe_lr = Pipeline([('lr' , LogisticRegression(warm_start=True, max_iter=1000))])\n",
    "\n",
    "params_grid_lr = {#'lr' : [LogisticRegression()],\n",
    "                  'lr__penalty' : ['l2'],\n",
    "                  'lr__class_weight' : ['balanced'],\n",
    "                  'lr__dual' : [True],\n",
    "                  'lr__solver' : ['liblinear'],\n",
    "                  'lr__C' : np.logspace(-4, 4, 20),\n",
    "                  'lr__l1_ratio' : np.logspace(-4, 4, 20)\n",
    "                 }\n",
    "\n",
    "lr_clf = GridSearchCV(pipe_lr, param_grid = params_grid_lr, cv = 5, verbose=0, n_jobs=-1)\n",
    "\n",
    "# fit on data\n",
    "lr_clf.fit(X_train, y_train)\n",
    "print(lr_clf.best_params_)\n",
    "best_lr_nochil_clf = lr_clf.best_estimator_\n",
    "model_stats(X.columns, best_lr_nochil_clf, 'LogisticRegression', X_test, y_test)"
   ]
  },
  {
   "cell_type": "code",
   "execution_count": 21,
   "metadata": {
    "ExecuteTime": {
     "end_time": "2021-04-01T19:37:44.232318Z",
     "start_time": "2021-04-01T19:37:44.217462Z"
    }
   },
   "outputs": [],
   "source": [
    "best_lr_nochil_clf_ = best_lr_nochil_clf.named_steps['lr']"
   ]
  },
  {
   "cell_type": "code",
   "execution_count": 22,
   "metadata": {
    "ExecuteTime": {
     "end_time": "2021-04-01T19:37:44.436804Z",
     "start_time": "2021-04-01T19:37:44.419245Z"
    }
   },
   "outputs": [],
   "source": [
    "coef_df = pd.DataFrame(best_lr_nochil_clf_.coef_, columns = X_dums.columns, index = [1,2,3])"
   ]
  },
  {
   "cell_type": "code",
   "execution_count": 23,
   "metadata": {
    "ExecuteTime": {
     "end_time": "2021-04-01T19:37:44.619745Z",
     "start_time": "2021-04-01T19:37:44.494458Z"
    }
   },
   "outputs": [
    {
     "data": {
      "text/html": [
       "<div>\n",
       "<style scoped>\n",
       "    .dataframe tbody tr th:only-of-type {\n",
       "        vertical-align: middle;\n",
       "    }\n",
       "\n",
       "    .dataframe tbody tr th {\n",
       "        vertical-align: top;\n",
       "    }\n",
       "\n",
       "    .dataframe thead th {\n",
       "        text-align: right;\n",
       "    }\n",
       "</style>\n",
       "<table border=\"1\" class=\"dataframe\">\n",
       "  <thead>\n",
       "    <tr style=\"text-align: right;\">\n",
       "      <th></th>\n",
       "      <th>age</th>\n",
       "      <th>chil</th>\n",
       "      <th>rel</th>\n",
       "      <th>work</th>\n",
       "      <th>media</th>\n",
       "      <th>edu_2</th>\n",
       "      <th>edu_3</th>\n",
       "      <th>edu_4</th>\n",
       "      <th>hus_edu_2</th>\n",
       "      <th>hus_edu_3</th>\n",
       "      <th>hus_edu_4</th>\n",
       "      <th>hus_ocu_2</th>\n",
       "      <th>hus_ocu_3</th>\n",
       "      <th>hus_ocu_4</th>\n",
       "      <th>sol_2</th>\n",
       "      <th>sol_3</th>\n",
       "      <th>sol_4</th>\n",
       "    </tr>\n",
       "  </thead>\n",
       "  <tbody>\n",
       "    <tr>\n",
       "      <th>1</th>\n",
       "      <td>1.075660</td>\n",
       "      <td>-1.294277</td>\n",
       "      <td>0.312271</td>\n",
       "      <td>-0.274543</td>\n",
       "      <td>0.596716</td>\n",
       "      <td>-0.541031</td>\n",
       "      <td>-0.959763</td>\n",
       "      <td>-1.730236</td>\n",
       "      <td>-0.503133</td>\n",
       "      <td>-0.377198</td>\n",
       "      <td>-0.325308</td>\n",
       "      <td>0.405248</td>\n",
       "      <td>-0.016449</td>\n",
       "      <td>-0.074381</td>\n",
       "      <td>-0.365533</td>\n",
       "      <td>-0.481582</td>\n",
       "      <td>-0.859691</td>\n",
       "    </tr>\n",
       "    <tr>\n",
       "      <th>2</th>\n",
       "      <td>-0.024302</td>\n",
       "      <td>0.737031</td>\n",
       "      <td>-0.246285</td>\n",
       "      <td>0.054937</td>\n",
       "      <td>-0.478299</td>\n",
       "      <td>0.952599</td>\n",
       "      <td>1.661067</td>\n",
       "      <td>2.276341</td>\n",
       "      <td>-1.332308</td>\n",
       "      <td>-1.476845</td>\n",
       "      <td>-1.351398</td>\n",
       "      <td>-0.380608</td>\n",
       "      <td>-0.547870</td>\n",
       "      <td>-0.299297</td>\n",
       "      <td>0.034177</td>\n",
       "      <td>0.473547</td>\n",
       "      <td>0.809310</td>\n",
       "    </tr>\n",
       "    <tr>\n",
       "      <th>3</th>\n",
       "      <td>-1.307547</td>\n",
       "      <td>0.974680</td>\n",
       "      <td>-0.144069</td>\n",
       "      <td>0.256901</td>\n",
       "      <td>-0.345151</td>\n",
       "      <td>0.069680</td>\n",
       "      <td>0.242605</td>\n",
       "      <td>0.319245</td>\n",
       "      <td>1.944755</td>\n",
       "      <td>1.916784</td>\n",
       "      <td>1.802846</td>\n",
       "      <td>0.006254</td>\n",
       "      <td>0.279704</td>\n",
       "      <td>0.411932</td>\n",
       "      <td>0.410420</td>\n",
       "      <td>0.311785</td>\n",
       "      <td>0.459693</td>\n",
       "    </tr>\n",
       "  </tbody>\n",
       "</table>\n",
       "</div>"
      ],
      "text/plain": [
       "        age      chil       rel      work     media     edu_2     edu_3  \\\n",
       "1  1.075660 -1.294277  0.312271 -0.274543  0.596716 -0.541031 -0.959763   \n",
       "2 -0.024302  0.737031 -0.246285  0.054937 -0.478299  0.952599  1.661067   \n",
       "3 -1.307547  0.974680 -0.144069  0.256901 -0.345151  0.069680  0.242605   \n",
       "\n",
       "      edu_4  hus_edu_2  hus_edu_3  hus_edu_4  hus_ocu_2  hus_ocu_3  hus_ocu_4  \\\n",
       "1 -1.730236  -0.503133  -0.377198  -0.325308   0.405248  -0.016449  -0.074381   \n",
       "2  2.276341  -1.332308  -1.476845  -1.351398  -0.380608  -0.547870  -0.299297   \n",
       "3  0.319245   1.944755   1.916784   1.802846   0.006254   0.279704   0.411932   \n",
       "\n",
       "      sol_2     sol_3     sol_4  \n",
       "1 -0.365533 -0.481582 -0.859691  \n",
       "2  0.034177  0.473547  0.809310  \n",
       "3  0.410420  0.311785  0.459693  "
      ]
     },
     "execution_count": 23,
     "metadata": {},
     "output_type": "execute_result"
    }
   ],
   "source": [
    "coef_df"
   ]
  },
  {
   "cell_type": "code",
   "execution_count": 236,
   "metadata": {
    "ExecuteTime": {
     "end_time": "2021-04-02T07:21:14.936416Z",
     "start_time": "2021-04-02T07:21:14.932247Z"
    }
   },
   "outputs": [
    {
     "data": {
      "text/plain": [
       "'euclidean'"
      ]
     },
     "execution_count": 236,
     "metadata": {},
     "output_type": "execute_result"
    }
   ],
   "source": [
    "next(iter(knn_clf.best_params_.items()))[1]"
   ]
  },
  {
   "cell_type": "code",
   "execution_count": 239,
   "metadata": {
    "ExecuteTime": {
     "end_time": "2021-04-02T07:21:40.043520Z",
     "start_time": "2021-04-02T07:21:40.038583Z"
    }
   },
   "outputs": [
    {
     "data": {
      "text/plain": [
       "{'lr': LogisticRegression(C=0.0001, class_weight='balanced', dual=True,\n",
       "                    l1_ratio=0.0001, max_iter=1000, solver='liblinear',\n",
       "                    warm_start=True),\n",
       " 'lr__C': 0.0001,\n",
       " 'lr__class_weight': 'balanced',\n",
       " 'lr__dual': True,\n",
       " 'lr__l1_ratio': 0.0001,\n",
       " 'lr__penalty': 'l2',\n",
       " 'lr__solver': 'liblinear'}"
      ]
     },
     "execution_count": 239,
     "metadata": {},
     "output_type": "execute_result"
    }
   ],
   "source": [
    "lr_clf.best_params_"
   ]
  },
  {
   "cell_type": "code",
   "execution_count": 29,
   "metadata": {
    "ExecuteTime": {
     "end_time": "2021-04-01T19:42:07.818070Z",
     "start_time": "2021-04-01T19:42:07.562242Z"
    }
   },
   "outputs": [
    {
     "data": {
      "text/plain": [
       "<matplotlib.axes._subplots.AxesSubplot at 0x7fedb8d9fe80>"
      ]
     },
     "execution_count": 29,
     "metadata": {},
     "output_type": "execute_result"
    },
    {
     "data": {
      "image/png": "[encoded data removed]",
      "text/plain": [
       "<Figure size 864x576 with 1 Axes>"
      ]
     },
     "metadata": {
      "needs_background": "light"
     },
     "output_type": "display_data"
    }
   ],
   "source": [
    "fig, ax = plt.subplots(figsize = [12,8])\n",
    "coef_df.loc[1].plot()"
   ]
  },
  {
   "cell_type": "code",
   "execution_count": null,
   "metadata": {},
   "outputs": [],
   "source": []
  },
  {
   "cell_type": "markdown",
   "metadata": {},
   "source": [
    "## KNN using Pipeline"
   ]
  },
  {
   "cell_type": "code",
   "execution_count": 156,
   "metadata": {
    "ExecuteTime": {
     "end_time": "2021-04-02T06:51:17.001274Z",
     "start_time": "2021-04-02T06:51:16.978592Z"
    }
   },
   "outputs": [],
   "source": [
    "X = df.copy()\n",
    "y = X.pop('cmc')"
   ]
  },
  {
   "cell_type": "code",
   "execution_count": 157,
   "metadata": {
    "ExecuteTime": {
     "end_time": "2021-04-02T06:51:18.014309Z",
     "start_time": "2021-04-02T06:51:17.988175Z"
    }
   },
   "outputs": [],
   "source": [
    "cat_columns = ['edu', 'hus_edu', 'chil', 'hus_ocu', 'sol']\n",
    "# cat_columns = ['edu', 'hus_edu', 'hus_ocu', 'sol']\n",
    "for col in cat_columns:\n",
    "    X[col] = X[col].astype(object)\n",
    "X_train, X_test, y_train, y_test = train_test_split(\n",
    "    X, y, test_size=0.5, random_state=729)"
   ]
  },
  {
   "cell_type": "code",
   "execution_count": 158,
   "metadata": {
    "ExecuteTime": {
     "end_time": "2021-04-02T06:51:20.652676Z",
     "start_time": "2021-04-02T06:51:20.613827Z"
    }
   },
   "outputs": [],
   "source": [
    "# train set\n",
    "X_train_nums = X_train.select_dtypes('int64')\n",
    "\n",
    "rs = RobustScaler()\n",
    "# ss = StandardScaler()\n",
    "\n",
    "rs.fit(X_train_nums)\n",
    "nums_df = pd.DataFrame(rs.transform(X_train_nums),\n",
    "                      index=X_train_nums.index)\n",
    "\n",
    "X_train_cat = X_train.select_dtypes('object')\n",
    "\n",
    "ohe = OneHotEncoder(\n",
    "    drop='first',\n",
    "    sparse=False)\n",
    "\n",
    "dums = ohe.fit_transform(X_train_cat)\n",
    "dums_df = pd.DataFrame(dums,\n",
    "                       columns=ohe.get_feature_names(),\n",
    "                       index=X_train_cat.index)"
   ]
  },
  {
   "cell_type": "code",
   "execution_count": 179,
   "metadata": {
    "ExecuteTime": {
     "end_time": "2021-04-02T06:57:33.490454Z",
     "start_time": "2021-04-02T06:57:33.485953Z"
    }
   },
   "outputs": [],
   "source": [
    "numerical_pipeline = Pipeline(steps=[\n",
    "    ('rs', RobustScaler())\n",
    "#     ('ss', StandardScaler())\n",
    "])\n",
    "                \n",
    "categorical_pipeline = Pipeline(steps=[\n",
    "    ('ohe', OneHotEncoder( #drop='first',\n",
    "                         sparse=False,\n",
    "                         handle_unknown='ignore'))\n",
    "])\n",
    "\n",
    "trans = ColumnTransformer(transformers=[\n",
    "    ('numerical', numerical_pipeline, X_train_nums.columns),\n",
    "    ('categorical', categorical_pipeline, X_train_cat.columns)\n",
    "])"
   ]
  },
  {
   "cell_type": "code",
   "execution_count": 180,
   "metadata": {
    "ExecuteTime": {
     "end_time": "2021-04-02T06:57:34.053068Z",
     "start_time": "2021-04-02T06:57:34.048478Z"
    }
   },
   "outputs": [],
   "source": [
    "model_pipe = Pipeline(steps=[\n",
    "    ('trans', trans),\n",
    "    ('knn', KNeighborsClassifier())\n",
    "])\n",
    "\n",
    "params_grid_knn = {'knn__n_neighbors': [3, 5, 7, 9],\n",
    "             'knn__p': [1, 2, 3],\n",
    "             'knn__weights' : ['uniform', 'distance'],\n",
    "             'knn__metric' : ['euclidean', 'manhattan', 'minkowski']\n",
    "            }\n",
    "\n",
    "knn_clf = GridSearchCV(model_pipe, param_grid = params_grid_knn,\n",
    "                       cv = 3, verbose=0, n_jobs=-1)"
   ]
  },
  {
   "cell_type": "code",
   "execution_count": 181,
   "metadata": {
    "ExecuteTime": {
     "end_time": "2021-04-02T06:57:37.150192Z",
     "start_time": "2021-04-02T06:57:35.336420Z"
    }
   },
   "outputs": [
    {
     "name": "stdout",
     "output_type": "stream",
     "text": [
      "{'knn__metric': 'euclidean', 'knn__n_neighbors': 9, 'knn__p': 1, 'knn__weights': 'uniform'}\n"
     ]
    }
   ],
   "source": [
    "knn_clf.fit(X_train, y_train)\n",
    "print(knn_clf.best_params_)\n",
    "best_knn_clf = knn_clf.best_estimator_"
   ]
  },
  {
   "cell_type": "code",
   "execution_count": 196,
   "metadata": {
    "ExecuteTime": {
     "end_time": "2021-04-02T06:59:24.193598Z",
     "start_time": "2021-04-02T06:59:23.597439Z"
    }
   },
   "outputs": [
    {
     "name": "stdout",
     "output_type": "stream",
     "text": [
      "Num features:  10\n",
      "Model score:  0.5020352781546812\n",
      "Model F1 (micro):  0.5020352781546812\n",
      "Model F1 (macro):  0.4854577362202264\n",
      "Model F1 (weighted):  0.5021381157764881\n",
      "Cross validation score:  [0.43243243 0.55405405 0.48979592 0.46938776 0.48979592]\n",
      "Classification Report:\n",
      "              precision    recall  f1-score   support\n",
      "\n",
      "           1       0.59      0.58      0.59       317\n",
      "           2       0.42      0.41      0.42       167\n",
      "           3       0.45      0.46      0.45       253\n",
      "\n",
      "    accuracy                           0.50       737\n",
      "   macro avg       0.49      0.49      0.49       737\n",
      "weighted avg       0.50      0.50      0.50       737\n",
      "\n",
      "One-vs-One ROC AUC scores:\n",
      "0.681280 (macro),\n",
      "0.682458 (weighted by prevalence)\n",
      "One-vs-Rest ROC AUC scores:\n",
      "0.682299 (macro),\n",
      "0.683412 (weighted by prevalence)\n"
     ]
    },
    {
     "data": {
      "image/png": "[encoded data removed]",
      "text/plain": [
       "<Figure size 432x576 with 2 Axes>"
      ]
     },
     "metadata": {
      "needs_background": "light"
     },
     "output_type": "display_data"
    }
   ],
   "source": [
    "model_stats(X.columns, best_knn_clf, 'KNeighborsClassifier', y_test)"
   ]
  },
  {
   "cell_type": "markdown",
   "metadata": {
    "ExecuteTime": {
     "end_time": "2021-04-01T19:05:08.005593Z",
     "start_time": "2021-04-01T19:04:48.610Z"
    }
   },
   "source": [
    "## SVM"
   ]
  },
  {
   "cell_type": "code",
   "execution_count": 66,
   "metadata": {
    "ExecuteTime": {
     "end_time": "2021-04-01T23:18:35.739894Z",
     "start_time": "2021-04-01T23:18:26.628734Z"
    }
   },
   "outputs": [
    {
     "name": "stdout",
     "output_type": "stream",
     "text": [
      "Fitting 5 folds for each of 90 candidates, totalling 450 fits\n"
     ]
    },
    {
     "name": "stderr",
     "output_type": "stream",
     "text": [
      "/Users/wax/opt/anaconda3/lib/python3.8/site-packages/sklearn/model_selection/_search.py:918: UserWarning: One or more of the test scores are non-finite: [       nan        nan        nan        nan        nan        nan\n",
      "        nan        nan        nan        nan 0.37581242 0.37490745\n",
      " 0.43026327 0.31703003        nan        nan        nan        nan\n",
      "        nan        nan 0.40765529 0.40398601 0.45019745 0.3524023\n",
      "        nan        nan        nan        nan        nan        nan\n",
      " 0.45206911 0.47828877 0.52809955 0.41036199        nan        nan\n",
      "        nan        nan        nan        nan 0.46379679 0.48643768\n",
      " 0.52718223 0.4057754         nan        nan        nan        nan\n",
      "        nan        nan        nan        nan        nan        nan\n",
      "        nan        nan        nan        nan        nan        nan\n",
      "        nan        nan        nan        nan        nan        nan\n",
      "        nan        nan        nan        nan        nan        nan\n",
      "        nan        nan        nan        nan        nan        nan\n",
      "        nan        nan        nan        nan        nan        nan\n",
      "        nan        nan        nan        nan        nan        nan]\n",
      "  warnings.warn(\n"
     ]
    },
    {
     "name": "stdout",
     "output_type": "stream",
     "text": [
      "{'pca__n_components': 10, 'svm__class_weight': 'balanced', 'svm__kernel': 'rbf'}\n"
     ]
    }
   ],
   "source": [
    "pipe_svm = Pipeline([\n",
    "                     ('scl', RobustScaler()),\n",
    "                     ('pca', PCA()),\n",
    "                     ('svm', SVC(random_state=42, probability=True))])\n",
    "\n",
    "params_grid_svm = {'svm__class_weight' : ['balanced', 'none'],\n",
    "                   'svm__kernel' : ['linear', 'poly', 'rbf', 'sigmoid', 'precomputed'],\n",
    "                   'pca__n_components': [0, 2, 5, 10, 15, 20, 30, 45, 64],\n",
    "                 }\n",
    "\n",
    "svm_clf = GridSearchCV(pipe_svm, param_grid = params_grid_svm,\n",
    "                       cv = 5, verbose=1, n_jobs=-1)\n",
    "svm_clf.fit(X_train, y_train)\n",
    "print(svm_clf.best_params_)\n",
    "best_svm_clf = svm_clf.best_estimator_"
   ]
  },
  {
   "cell_type": "code",
   "execution_count": 60,
   "metadata": {
    "ExecuteTime": {
     "end_time": "2021-04-01T22:12:32.456060Z",
     "start_time": "2021-04-01T22:12:31.587076Z"
    }
   },
   "outputs": [
    {
     "name": "stdout",
     "output_type": "stream",
     "text": [
      "Num features:  9\n",
      "Model score:  0.5203252032520326\n",
      "Model F1 (micro):  0.5203252032520326\n",
      "Model F1 (macro):  0.5150835436131761\n",
      "Model F1 (weighted):  0.5249469776904684\n",
      "Cross validation score:  [0.51351351 0.44594595 0.43243243 0.54054054 0.49315068]\n",
      "Classification Report:\n",
      "              precision    recall  f1-score   support\n",
      "\n",
      "           1       0.63      0.53      0.57       149\n",
      "           2       0.39      0.52      0.45        93\n",
      "           3       0.54      0.51      0.52       127\n",
      "\n",
      "    accuracy                           0.52       369\n",
      "   macro avg       0.52      0.52      0.52       369\n",
      "weighted avg       0.54      0.52      0.52       369\n",
      "\n",
      "One-vs-One ROC AUC scores:\n",
      "0.705314 (macro),\n",
      "0.707871 (weighted by prevalence)\n",
      "One-vs-Rest ROC AUC scores:\n",
      "0.709023 (macro),\n",
      "0.711711 (weighted by prevalence)\n"
     ]
    },
    {
     "data": {
      "image/png": "[encoded data removed]",
      "text/plain": [
       "<Figure size 432x576 with 2 Axes>"
      ]
     },
     "metadata": {
      "needs_background": "light"
     },
     "output_type": "display_data"
    }
   ],
   "source": [
    "model_stats(X.columns, best_svm_clf, 'SVM', X_test, y_test)"
   ]
  },
  {
   "cell_type": "code",
   "execution_count": 54,
   "metadata": {
    "ExecuteTime": {
     "end_time": "2021-04-01T22:08:29.189983Z",
     "start_time": "2021-04-01T22:08:29.185546Z"
    }
   },
   "outputs": [
    {
     "data": {
      "text/plain": [
       "dict_keys(['explained_variance', 'r2', 'max_error', 'neg_median_absolute_error', 'neg_mean_absolute_error', 'neg_mean_absolute_percentage_error', 'neg_mean_squared_error', 'neg_mean_squared_log_error', 'neg_root_mean_squared_error', 'neg_mean_poisson_deviance', 'neg_mean_gamma_deviance', 'accuracy', 'top_k_accuracy', 'roc_auc', 'roc_auc_ovr', 'roc_auc_ovo', 'roc_auc_ovr_weighted', 'roc_auc_ovo_weighted', 'balanced_accuracy', 'average_precision', 'neg_log_loss', 'neg_brier_score', 'adjusted_rand_score', 'rand_score', 'homogeneity_score', 'completeness_score', 'v_measure_score', 'mutual_info_score', 'adjusted_mutual_info_score', 'normalized_mutual_info_score', 'fowlkes_mallows_score', 'precision', 'precision_macro', 'precision_micro', 'precision_samples', 'precision_weighted', 'recall', 'recall_macro', 'recall_micro', 'recall_samples', 'recall_weighted', 'f1', 'f1_macro', 'f1_micro', 'f1_samples', 'f1_weighted', 'jaccard', 'jaccard_macro', 'jaccard_micro', 'jaccard_samples', 'jaccard_weighted'])"
      ]
     },
     "execution_count": 54,
     "metadata": {},
     "output_type": "execute_result"
    }
   ],
   "source": [
    "SCORERS.keys()"
   ]
  },
  {
   "cell_type": "code",
   "execution_count": null,
   "metadata": {},
   "outputs": [],
   "source": []
  }
 ],
 "metadata": {
  "kernelspec": {
   "display_name": "Python 3",
   "language": "python",
   "name": "python3"
  },
  "language_info": {
   "codemirror_mode": {
    "name": "ipython",
    "version": 3
   },
   "file_extension": ".py",
   "mimetype": "text/x-python",
   "name": "python",
   "nbconvert_exporter": "python",
   "pygments_lexer": "ipython3",
   "version": "3.8.3"
  },
  "toc": {
   "base_numbering": 1,
   "nav_menu": {},
   "number_sections": true,
   "sideBar": true,
   "skip_h1_title": false,
   "title_cell": "Table of Contents",
   "title_sidebar": "Contents",
   "toc_cell": false,
   "toc_position": {
    "height": "calc(100% - 180px)",
    "left": "10px",
    "top": "150px",
    "width": "336px"
   },
   "toc_section_display": true,
   "toc_window_display": true
  }
 },
 "nbformat": 4,
 "nbformat_minor": 4
}
